{
 "cells": [
  {
   "cell_type": "markdown",
   "metadata": {},
   "source": [
    "# Running the TTGammaProcessor"
   ]
  },
  {
   "cell_type": "markdown",
   "metadata": {},
   "source": [
    "This cell will copy the test files from their location on eos to your local area."
   ]
  },
  {
   "cell_type": "code",
   "execution_count": null,
   "metadata": {},
   "outputs": [],
   "source": [
    "# #If you have not already done so, you can copy the files to test the code on from here\n",
    "# # ONLY NEEDS TO BE DONE ONCE, CAN BE COMMENTED OUT WHEN YOU \n",
    "# !xrdcp root://cmseos.fnal.gov//store/user/cmsdas/2020/long_exercises/TTGamma/TestFiles/TTGamma_1l.root .\n",
    "# !xrdcp root://cmseos.fnal.gov//store/user/cmsdas/2020/long_exercises/TTGamma/TestFiles/TTbar_1l.root .\n",
    "# !xrdcp root://cmseos.fnal.gov//store/user/cmsdas/2020/long_exercises/TTGamma/TestFiles/WGamma.root .\n",
    "# !xrdcp root://cmseos.fnal.gov//store/user/cmsdas/2020/long_exercises/TTGamma/TestFiles/ZGamma.root .\n",
    "# !xrdcp root://cmseos.fnal.gov//store/user/cmsdas/2020/long_exercises/TTGamma/TestFiles/W4Jets.root .\n",
    "# !xrdcp root://cmseos.fnal.gov//store/user/cmsdas/2020/long_exercises/TTGamma/TestFiles/ZJets.root .    "
   ]
  },
  {
   "cell_type": "code",
   "execution_count": null,
   "metadata": {},
   "outputs": [],
   "source": [
    "from coffea import util, processor\n",
    "from ttgamma import TTGammaProcessor\n"
   ]
  },
  {
   "cell_type": "markdown",
   "metadata": {},
   "source": [
    "List of samples to be run on (fileset variable) and a dictionary containing the number of events processed for each sample"
   ]
  },
  {
   "cell_type": "code",
   "execution_count": null,
   "metadata": {},
   "outputs": [],
   "source": [
    "fileset = {'TTGamma_SingleLept_2016':['TTGamma_1l.root'],\n",
    "#            'TTbarPowheg_Semilept_2016':['TTbar_1l.root'],\n",
    "#            'W4jets_2016':['W4Jets.root'],\n",
    "#            'WGamma_01J_5f_2016':['WGamma.root'],\n",
    "#            'ZGamma_01J_5f_lowMass_2016'['ZGamma.root'],\n",
    "#            'DYjetsM50_2016':['ZJets.root'],\n",
    "        }\n",
    "\n",
    "mcEventYields = {'TTGamma_SingleLept_2016': 1000000.0,\n",
    "                 'TTbarPowheg_Semilept_2016': 1000000.0,\n",
    "                 'W4jets_2016': 1000000.0,\n",
    "                 'WGamma_01J_5f_2016': 1000000.0,\n",
    "                 'ZGamma_01J_5f_lowMass_2016': 1000000.0,\n",
    "                 'DYjetsM50_2016': 1000000.0,\n",
    "             }\n"
   ]
  },
  {
   "cell_type": "markdown",
   "metadata": {},
   "source": [
    "Run the TTGammaProcessor on the list of files included in fileset.\n",
    "\n",
    "You can specify the chunksize and maximum number of chunks to process from each sample (selecting a small number of events and one chunk will force coffea to process only a subset of the events for quicker debugging)"
   ]
  },
  {
   "cell_type": "code",
   "execution_count": null,
   "metadata": {},
   "outputs": [],
   "source": [
    "import time\n",
    "tstart = time.time()\n",
    "\n",
    "output = processor.run_uproot_job(fileset,\n",
    "                                  treename='Events',\n",
    "                                  processor_instance=TTGammaProcessor(mcEventYields=mcEventYields),\n",
    "                                  executor=processor.iterative_executor,\n",
    "                                  executor_args={'workers': 4, 'flatten': True},\n",
    "#                                   chunksize=1000,\n",
    "#                                   maxchunks=1,\n",
    "                                 )\n",
    "\n",
    "elapsed = time.time() - tstart\n",
    "print(\"Total time: %.1f seconds\"%elapsed)\n",
    "print(\"Total rate: %.1f events / second\"%(output['EventCount'].value/elapsed))"
   ]
  },
  {
   "cell_type": "code",
   "execution_count": null,
   "metadata": {},
   "outputs": [],
   "source": [
    "output"
   ]
  },
  {
   "cell_type": "code",
   "execution_count": null,
   "metadata": {},
   "outputs": [],
   "source": []
  },
  {
   "cell_type": "code",
   "execution_count": null,
   "metadata": {},
   "outputs": [],
   "source": []
  },
  {
   "cell_type": "code",
   "execution_count": null,
   "metadata": {},
   "outputs": [],
   "source": []
  },
  {
   "cell_type": "code",
   "execution_count": null,
   "metadata": {},
   "outputs": [],
   "source": []
  },
  {
   "cell_type": "code",
   "execution_count": null,
   "metadata": {},
   "outputs": [],
   "source": []
  },
  {
   "cell_type": "markdown",
   "metadata": {},
   "source": [
    "# Accessing Arrays Interactively"
   ]
  },
  {
   "cell_type": "markdown",
   "metadata": {},
   "source": [
    "Below is an example of loading a JaggedCandidateArray interactively.  This can be very useful for developing the code, and debugging any issues"
   ]
  },
  {
   "cell_type": "code",
   "execution_count": null,
   "metadata": {},
   "outputs": [],
   "source": [
    "import uproot\n",
    "from coffea.analysis_objects import JaggedCandidateArray"
   ]
  },
  {
   "cell_type": "code",
   "execution_count": null,
   "metadata": {},
   "outputs": [],
   "source": [
    "#Open the file TTGamma_1l.root, and access the Events TTree\n",
    "_tree = uproot.open(\"TTGamma_1l.root\")['Events']"
   ]
  },
  {
   "cell_type": "code",
   "execution_count": null,
   "metadata": {},
   "outputs": [],
   "source": [
    "#print list of branches in the TTree\n",
    "_tree.keys()"
   ]
  },
  {
   "cell_type": "code",
   "execution_count": null,
   "metadata": {},
   "outputs": [],
   "source": [
    "#Load all branches which start with the word Jet\n",
    "jetArray = _tree.arrays('Jet_*')\n",
    "#get number of jets per event\n",
    "nJets = _tree.array(\"nJet\")"
   ]
  },
  {
   "cell_type": "code",
   "execution_count": null,
   "metadata": {},
   "outputs": [],
   "source": [
    "jetArray.keys()"
   ]
  },
  {
   "cell_type": "code",
   "execution_count": null,
   "metadata": {},
   "outputs": [],
   "source": [
    "jets = JaggedCandidateArray.candidatesfromcounts(nJets,\n",
    "                                                 pt = jetArray[b'Jet_pt'].flatten(),\n",
    "                                                 eta = jetArray[b'Jet_eta'].flatten(),\n",
    "                                                 phi = jetArray[b'Jet_phi'].flatten(),\n",
    "                                                 mass = jetArray[b'Jet_mass'].flatten(),\n",
    "                                                )"
   ]
  },
  {
   "cell_type": "code",
   "execution_count": null,
   "metadata": {},
   "outputs": [],
   "source": []
  }
 ],
 "metadata": {
  "kernelspec": {
   "display_name": "coffeaenv",
   "language": "python",
   "name": "coffeaenv"
  },
  "language_info": {
   "codemirror_mode": {
    "name": "ipython",
    "version": 3
   },
   "file_extension": ".py",
   "mimetype": "text/x-python",
   "name": "python",
   "nbconvert_exporter": "python",
   "pygments_lexer": "ipython3",
   "version": "3.6.5"
  }
 },
 "nbformat": 4,
 "nbformat_minor": 2
}
